{
  "cells": [
    {
      "cell_type": "code",
      "execution_count": 1,
      "metadata": {
        "id": "vaK8DiQgG6P7"
      },
      "outputs": [],
      "source": [
        "import cv2\n",
        "import os\n",
        "from PIL import Image\n",
        "import tensorflow as tf\n",
        "from tensorflow import keras\n",
        "import numpy as np\n",
        "from sklearn.model_selection import train_test_split\n",
        "from keras.utils import normalize\n",
        "from keras.models import Sequential\n",
        "from keras.layers import Conv2D, MaxPooling2D\n",
        "from keras.layers import Activation, Dropout, Flatten, Dense"
      ]
    },
    {
      "cell_type": "code",
      "execution_count": 2,
      "metadata": {
        "colab": {
          "base_uri": "https://localhost:8080/",
          "height": 246
        },
        "id": "-DpSvw5gG6P9",
        "outputId": "d3688ab2-ae80-407c-dae8-6900d773337f"
      },
      "outputs": [
        {
          "output_type": "error",
          "ename": "FileNotFoundError",
          "evalue": "ignored",
          "traceback": [
            "\u001b[0;31m---------------------------------------------------------------------------\u001b[0m",
            "\u001b[0;31mFileNotFoundError\u001b[0m                         Traceback (most recent call last)",
            "\u001b[0;32m<ipython-input-2-6834e278ed5d>\u001b[0m in \u001b[0;36m<cell line: 5>\u001b[0;34m()\u001b[0m\n\u001b[1;32m      3\u001b[0m \u001b[0;34m\u001b[0m\u001b[0m\n\u001b[1;32m      4\u001b[0m \u001b[0;31m# Get the list of images without tumor\u001b[0m\u001b[0;34m\u001b[0m\u001b[0;34m\u001b[0m\u001b[0m\n\u001b[0;32m----> 5\u001b[0;31m \u001b[0mno_tumor_images\u001b[0m \u001b[0;34m=\u001b[0m \u001b[0mos\u001b[0m\u001b[0;34m.\u001b[0m\u001b[0mlistdir\u001b[0m\u001b[0;34m(\u001b[0m\u001b[0mimage_directory\u001b[0m \u001b[0;34m+\u001b[0m \u001b[0;34m'no/'\u001b[0m\u001b[0;34m)\u001b[0m\u001b[0;34m\u001b[0m\u001b[0;34m\u001b[0m\u001b[0m\n\u001b[0m\u001b[1;32m      6\u001b[0m \u001b[0;34m\u001b[0m\u001b[0m\n\u001b[1;32m      7\u001b[0m \u001b[0;31m# Get the list of images with tumor\u001b[0m\u001b[0;34m\u001b[0m\u001b[0;34m\u001b[0m\u001b[0m\n",
            "\u001b[0;31mFileNotFoundError\u001b[0m: [Errno 2] No such file or directory: 'Dataset/no/'"
          ]
        }
      ],
      "source": [
        "# Set the directory where the images are located\n",
        "image_directory = 'Dataset/'\n",
        "\n",
        "# Get the list of images without tumor\n",
        "no_tumor_images = os.listdir(image_directory + 'no/')\n",
        "\n",
        "# Get the list of images with tumor\n",
        "yes_tumor_images = os.listdir(image_directory + 'yes/')\n",
        "\n",
        "# Print the list of images without tumor\n",
        "#print(no_tumor_images)"
      ]
    },
    {
      "cell_type": "code",
      "execution_count": null,
      "metadata": {
        "id": "-MNR9kiIG6P-"
      },
      "outputs": [],
      "source": [
        "input_size = 64\n",
        "dataset_x = []\n",
        "label_y = []\n",
        "\n",
        "# Process images without tumors\n",
        "for i, image_name in enumerate(no_tumor_images):\n",
        "    # Check if image is in jpg format\n",
        "    if image_name.split('.')[1] == 'jpg':\n",
        "        # Read image from directory\n",
        "        image = cv2.imread(image_directory + 'no/' + image_name)\n",
        "        # Convert image to RGB format\n",
        "        image = Image.fromarray(image, 'RGB')\n",
        "        # Resize image to specified input size\n",
        "        image = image.resize((input_size, input_size))\n",
        "        # Convert image to numpy array\n",
        "        dataset_x.append(np.array(image))\n",
        "        # Append label for no tumor\n",
        "        label_y.append(0)\n",
        "\n",
        "# Process images with tumors\n",
        "for i, image_name in enumerate(yes_tumor_images):\n",
        "    # Check if image is in jpg format\n",
        "    if image_name.split('.')[1] == 'jpg':\n",
        "        # Read image from directory\n",
        "        image = cv2.imread(image_directory + 'yes/' + image_name)\n",
        "        # Convert image to RGB format\n",
        "        image = Image.fromarray(image, 'RGB')\n",
        "        # Resize image to specified input size\n",
        "        image = image.resize((input_size, input_size))\n",
        "        # Convert image to numpy array\n",
        "        dataset_x.append(np.array(image))\n",
        "        # Append label for tumor\n",
        "        label_y.append(1)"
      ]
    },
    {
      "cell_type": "code",
      "execution_count": null,
      "metadata": {
        "id": "o4iqH3SHG6P_"
      },
      "outputs": [],
      "source": [
        "# Convert dataset_x to a numpy array\n",
        "dataset_x = np.array(dataset_x)\n",
        "\n",
        "# Convert label_y to a numpy array\n",
        "label_y = np.array(label_y)"
      ]
    },
    {
      "cell_type": "code",
      "execution_count": null,
      "metadata": {
        "id": "nlkbBjhZG6P_"
      },
      "outputs": [],
      "source": [
        "# Split the dataset into training and testing sets\n",
        "x_train, x_test, y_train, y_test = train_test_split(dataset_x, label_y, test_size=0.2, random_state=0)\n",
        "\n",
        "# Normalize the training set\n",
        "x_train = normalize(x_train, axis=1)\n",
        "\n",
        "# Normalize the testing set\n",
        "x_test = normalize(x_test, axis=1)"
      ]
    },
    {
      "cell_type": "markdown",
      "metadata": {
        "id": "sl4DQlr9G6P_"
      },
      "source": [
        "MDOEL BUILDING"
      ]
    },
    {
      "cell_type": "code",
      "execution_count": null,
      "metadata": {
        "id": "tr0iZUibG6QB"
      },
      "outputs": [],
      "source": [
        "# Import necessary libraries\n",
        "from keras.models import Sequential\n",
        "from keras.layers import Conv2D, Activation, MaxPooling2D, Flatten, Dense, Dropout\n",
        "\n",
        "# Create a sequential model\n",
        "model = Sequential()\n",
        "\n",
        "# Add a convolutional layer with 32 filters, kernel size (3,3), and input shape (input_size, input_size, 3)\n",
        "model.add(Conv2D(32, (3,3), input_shape =(input_size, input_size,3)))\n",
        "model.add(Activation('relu'))\n",
        "model.add(MaxPooling2D(pool_size=(2,2)))\n",
        "\n",
        "# Add another convolutional layer with 32 filters, kernel size (3,3), and 'he_uniform' kernel initializer\n",
        "model.add(Conv2D(32, (3,3), kernel_initializer='he_uniform'))\n",
        "model.add(Activation('relu'))\n",
        "model.add(MaxPooling2D(pool_size=(2,2)))\n",
        "\n",
        "# Add another convolutional layer with 64 filters, kernel size (3,3), and 'he_uniform' kernel initializer\n",
        "model.add(Conv2D(64, (3,3), kernel_initializer='he_uniform'))\n",
        "model.add(Activation('relu'))\n",
        "model.add(MaxPooling2D(pool_size=(2,2)))\n",
        "\n",
        "# Flatten the output from the previous layer\n",
        "model.add(Flatten())\n",
        "\n",
        "# Add a fully connected layer with 64 units\n",
        "model.add(Dense(64))\n",
        "model.add(Activation('relu'))\n",
        "\n",
        "# Add a dropout layer with dropout rate of 0.5\n",
        "model.add(Dropout(0.5))\n",
        "\n",
        "# Add the output layer with 1 unit and sigmoid activation function\n",
        "model.add(Dense(1))\n",
        "model.add(Activation('sigmoid'))"
      ]
    },
    {
      "cell_type": "code",
      "execution_count": null,
      "metadata": {
        "id": "-eolkopeG6QB"
      },
      "outputs": [],
      "source": [
        "# Compiling the model\n",
        "model.compile(\n",
        "    loss=tf.keras.losses.BinaryCrossentropy(),\n",
        "    optimizer='adam',\n",
        "    metrics=['accuracy']\n",
        ")\n",
        "\n",
        "# Training the model\n",
        "model.fit(\n",
        "    x_train,\n",
        "    y_train,\n",
        "    batch_size=16,\n",
        "    verbose=1,\n",
        "    epochs=10,\n",
        "    validation_data=(x_test, y_test),\n",
        "    shuffle=False\n",
        ")\n",
        "\n",
        "# Saving the model\n",
        "model.save('Brain_Tumor_Detection_1.0.h5')\n",
        "tf.saved_model.save(model, 'C:\\BRA FAMOUS\\PROGRAMMING\\PYTHON\\PYTHON PROJECTS\\Brain Tumour Detection\\BTD Dataset')"
      ]
    },
    {
      "cell_type": "markdown",
      "metadata": {
        "id": "BBxZSrcGG6QC"
      },
      "source": [
        "MODEL SUMMARY"
      ]
    },
    {
      "cell_type": "code",
      "execution_count": null,
      "metadata": {
        "id": "XbaZojnNG6QD"
      },
      "outputs": [],
      "source": [
        "print(model.summary())"
      ]
    },
    {
      "cell_type": "code",
      "execution_count": null,
      "metadata": {
        "id": "UHraTWz6G6QD"
      },
      "outputs": [],
      "source": [
        "import numpy as np\n",
        "import matplotlib.pyplot as plt\n",
        "from sklearn.metrics import roc_curve, auc\n",
        "\n",
        "# Assuming you have the model, x_test, and y_test available\n",
        "\n",
        "# Make predictions on the test set\n",
        "y_pred = model.predict(x_test)\n",
        "\n",
        "# Define a threshold value\n",
        "threshold = 0.5\n",
        "\n",
        "# Apply thresholding to the predictions\n",
        "y_pred = np.where(y_pred >= threshold, 1, 0)\n",
        "y_pred=np.array(y_pred)\n",
        "\n",
        "# Compute the false positive rate (FPR), true positive rate (TPR), and thresholds\n",
        "fpr, tpr, thresholds = roc_curve(y_test, y_pred)\n",
        "\n",
        "# Compute the Area Under the Curve (AUC)\n",
        "auc_score = auc(fpr, tpr)\n",
        "\n",
        "# Plot the ROC curve\n",
        "plt.plot(fpr, tpr, label='ROC curve (AUC = %0.2f)' % auc_score)\n",
        "plt.plot([0, 1], [0, 1], 'k--')  # Random guessing line\n",
        "plt.xlim([0.0, 1.0])\n",
        "plt.ylim([0.0, 1.05])\n",
        "plt.xlabel('False Positive Rate')\n",
        "plt.ylabel('True Positive Rate')\n",
        "plt.title('Receiver Operating Characteristic')\n",
        "plt.legend(loc='lower right')\n",
        "plt.show()"
      ]
    },
    {
      "cell_type": "code",
      "execution_count": null,
      "metadata": {
        "id": "LtbL7IMvG6QD"
      },
      "outputs": [],
      "source": [
        "\n",
        "import numpy as np\n",
        "import matplotlib.pyplot as plt\n",
        "from sklearn.metrics import confusion_matrix\n",
        "\n",
        "# Assuming you have the predicted labels and true labels for your model\n",
        "# predicted_labels: array-like of shape (n_samples,)\n",
        "# true_labels: array-like of shape (n_samples,)\n",
        "\n",
        "# Compute the confusion matrix\n",
        "cm = confusion_matrix(y_test, y_pred)\n",
        "\n",
        "# Define the class labels (if known)\n",
        "class_labels = ['Tumor','No Tumor']  # Replace with your class labels\n",
        "\n",
        "# Plot the confusion matrix\n",
        "plt.imshow(cm, interpolation='nearest', cmap=plt.cm.Blues)\n",
        "plt.title('Confusion Matrix')\n",
        "plt.colorbar()\n",
        "tick_marks = np.arange(len(class_labels))\n",
        "plt.xticks(tick_marks, class_labels, rotation=45)\n",
        "plt.yticks(tick_marks, class_labels)\n",
        "plt.xlabel('Predicted Label')\n",
        "plt.ylabel('True Label')\n",
        "\n",
        "\n",
        "\n",
        "# Add text annotations for each cell\n",
        "thresh = cm.max() / 2.0\n",
        "for i in range(cm.shape[0]):\n",
        "    for j in range(cm.shape[1]):\n",
        "        plt.text(j, i, format(cm[i, j], 'd'),\n",
        "                 ha=\"center\", va=\"center\",\n",
        "                 color=\"white\" if cm[i, j] > thresh else \"black\")\n",
        "\n",
        "\n",
        "plt.show()\n"
      ]
    },
    {
      "cell_type": "code",
      "execution_count": null,
      "metadata": {
        "id": "ZLtnKEFFG6QE"
      },
      "outputs": [],
      "source": [
        "y_pred= y_pred.argmax(axis=-1)"
      ]
    },
    {
      "cell_type": "code",
      "execution_count": null,
      "metadata": {
        "id": "nrfSW3H2G6QE"
      },
      "outputs": [],
      "source": [
        "print(y_pred)"
      ]
    },
    {
      "cell_type": "code",
      "execution_count": null,
      "metadata": {
        "id": "EJJB_K_cG6QF"
      },
      "outputs": [],
      "source": []
    }
  ],
  "metadata": {
    "kernelspec": {
      "display_name": "Python 3",
      "language": "python",
      "name": "python3"
    },
    "language_info": {
      "codemirror_mode": {
        "name": "ipython",
        "version": 3
      },
      "file_extension": ".py",
      "mimetype": "text/x-python",
      "name": "python",
      "nbconvert_exporter": "python",
      "pygments_lexer": "ipython3",
      "version": "3.11.4"
    },
    "orig_nbformat": 4,
    "colab": {
      "provenance": []
    }
  },
  "nbformat": 4,
  "nbformat_minor": 0
}