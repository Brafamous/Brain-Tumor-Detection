{
 "cells": [
  {
   "cell_type": "code",
   "execution_count": 1,
   "metadata": {},
   "outputs": [],
   "source": [
    "import cv2\n",
    "import os\n",
    "from PIL import Image\n",
    "import tensorflow as tf\n",
    "from tensorflow import keras\n",
    "import numpy as np\n",
    "from keras.models import load_model\n",
    "\n",
    "\n"
   ]
  },
  {
   "cell_type": "code",
   "execution_count": 2,
   "metadata": {},
   "outputs": [],
   "source": [
    "#Loading the Model\n",
    "model = load_model('Brain_Tumor_Detection_1.0')"
   ]
  },
  {
   "cell_type": "code",
   "execution_count": 3,
   "metadata": {},
   "outputs": [],
   "source": [
    "# Loadding the images\n",
    "image = cv2.imread('C:\\BRA FAMOUS\\PROGRAMMING\\PYTHON\\PYTHON PROJECTS\\Brain Tumour Detection\\BTD Dataset\\pred\\pred42.jpg')\n"
   ]
  },
  {
   "cell_type": "code",
   "execution_count": 4,
   "metadata": {},
   "outputs": [],
   "source": [
    "# Image processing\n",
    "import numpy as np\n",
    "from PIL import Image\n",
    "\n",
    "# Specify input size\n",
    "input_size = 64\n",
    "\n",
    "# Convert image to PIL Image object\n",
    "img = Image.fromarray(image)\n",
    "\n",
    "# Resize image to specified input size\n",
    "img = img.resize((input_size, input_size))\n",
    "\n",
    "# Convert PIL Image object to numpy array\n",
    "img = np.array(img)"
   ]
  },
  {
   "cell_type": "code",
   "execution_count": 5,
   "metadata": {},
   "outputs": [
    {
     "name": "stdout",
     "output_type": "stream",
     "text": [
      "1/1 [==============================] - 0s 133ms/step\n",
      "[[0.]]\n",
      "1/1 [==============================] - 0s 23ms/step\n",
      "[[0.]]\n"
     ]
    }
   ],
   "source": [
    "\n",
    "# Expand the dimensions of the image array\n",
    "input_img = np.expand_dims(img, axis=0)\n",
    "\n",
    "# Perform prediction using the model\n",
    "result = model.predict(input_img)\n",
    "\n",
    "# Print the result\n",
    "print(result)\n",
    "\n",
    "\n",
    "# Expand the dimensions of the image array\n",
    "input_img = np.expand_dims(img, axis=0)\n",
    "\n",
    "# Perform prediction using the model\n",
    "result = model.predict(input_img)\n",
    "\n",
    "# Print the result\n",
    "print(result)\n",
    "\n",
    "\n",
    "\n"
   ]
  },
  {
   "cell_type": "code",
   "execution_count": null,
   "metadata": {},
   "outputs": [],
   "source": []
  },
  {
   "cell_type": "markdown",
   "metadata": {},
   "source": [
    "MODEL TESTING"
   ]
  },
  {
   "cell_type": "code",
   "execution_count": 11,
   "metadata": {},
   "outputs": [],
   "source": [
    "image_directory = 'pred/'\n",
    "\n",
    "# Get the list of images without tumor\n",
    "Pred_dataset = os.listdir(image_directory)"
   ]
  },
  {
   "cell_type": "code",
   "execution_count": 12,
   "metadata": {},
   "outputs": [
    {
     "name": "stdout",
     "output_type": "stream",
     "text": [
      "['pred0.jpg', 'pred1.jpg', 'pred10.jpg', 'pred11.jpg', 'pred12.jpg', 'pred13.jpg', 'pred14.jpg', 'pred15.jpg', 'pred16.jpg', 'pred17.jpg', 'pred18.jpg', 'pred19.jpg', 'pred2.jpg', 'pred20.jpg', 'pred21.jpg', 'pred22.jpg', 'pred23.jpg', 'pred24.jpg', 'pred25.jpg', 'pred26.jpg', 'pred27.jpg', 'pred28.jpg', 'pred29.jpg', 'pred3.jpg', 'pred30.jpg', 'pred31.jpg', 'pred32.jpg', 'pred33.jpg', 'pred34.jpg', 'pred35.jpg', 'pred36.jpg', 'pred37.jpg', 'pred38.jpg', 'pred39.jpg', 'pred4.jpg', 'pred40.jpg', 'pred41.jpg', 'pred42.jpg', 'pred43.jpg', 'pred44.jpg', 'pred45.jpg', 'pred46.jpg', 'pred47.jpg', 'pred48.jpg', 'pred49.jpg', 'pred5.jpg', 'pred50.jpg', 'pred51.jpg', 'pred52.jpg', 'pred53.jpg', 'pred54.jpg', 'pred55.jpg', 'pred56.jpg', 'pred57.jpg', 'pred58.jpg', 'pred59.jpg', 'pred6.jpg', 'pred7.jpg', 'pred8.jpg', 'pred9.jpg']\n"
     ]
    }
   ],
   "source": []
  },
  {
   "cell_type": "code",
   "execution_count": 13,
   "metadata": {},
   "outputs": [],
   "source": [
    "input_size = 64\n",
    "dataset_x = []\n",
    "label_y = []\n",
    "\n",
    "# Process images without tumors\n",
    "for i, image_name in enumerate(Pred_dataset):\n",
    "    # Check if image is in jpg format\n",
    "    if image_name.split('.')[1] == 'jpg':\n",
    "        # Read image from directory\n",
    "        image = cv2.imread(image_directory  + image_name)\n",
    "        # Convert image to RGB format\n",
    "        image = Image.fromarray(image, 'RGB')\n",
    "        # Resize image to specified input size\n",
    "        image = image.resize((input_size, input_size))\n",
    "        # Convert image to numpy array\n",
    "        dataset_x.append(np.array(image))\n",
    "        # Append label for no tumor\n",
    "        label_y.append(0)"
   ]
  },
  {
   "cell_type": "code",
   "execution_count": null,
   "metadata": {},
   "outputs": [],
   "source": [
    "copy()"
   ]
  }
 ],
 "metadata": {
  "kernelspec": {
   "display_name": "Python 3",
   "language": "python",
   "name": "python3"
  },
  "language_info": {
   "codemirror_mode": {
    "name": "ipython",
    "version": 3
   },
   "file_extension": ".py",
   "mimetype": "text/x-python",
   "name": "python",
   "nbconvert_exporter": "python",
   "pygments_lexer": "ipython3",
   "version": "3.11.4"
  },
  "orig_nbformat": 4
 },
 "nbformat": 4,
 "nbformat_minor": 2
}
