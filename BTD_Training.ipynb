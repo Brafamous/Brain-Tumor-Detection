{
 "cells": [
  {
   "cell_type": "code",
   "execution_count": 2,
   "metadata": {},
   "outputs": [],
   "source": [
    "import cv2\n",
    "import os\n",
    "from PIL import Image\n",
    "import tensorflow as tf\n",
    "from tensorflow import keras\n",
    "import numpy as np\n",
    "from sklearn.model_selection import train_test_split\n",
    "from keras.utils import normalize\n",
    "from keras.models import Sequential\n",
    "from keras.layers import Conv2D, MaxPooling2D\n",
    "from keras.layers import Activation, Dropout, Flatten, Dense"
   ]
  },
  {
   "cell_type": "code",
   "execution_count": 3,
   "metadata": {},
   "outputs": [],
   "source": [
    "# Set the directory where the images are located\n",
    "image_directory = 'Dataset/'\n",
    "\n",
    "# Get the list of images without tumor\n",
    "no_tumor_images = os.listdir(image_directory + 'no/')\n",
    "\n",
    "# Get the list of images with tumor\n",
    "yes_tumor_images = os.listdir(image_directory + 'yes/')\n",
    "\n",
    "# Print the list of images without tumor\n",
    "#print(no_tumor_images)"
   ]
  },
  {
   "cell_type": "code",
   "execution_count": 4,
   "metadata": {},
   "outputs": [],
   "source": [
    "input_size = 64\n",
    "dataset_x = []\n",
    "label_y = []\n",
    "\n",
    "# Process images without tumors\n",
    "for i, image_name in enumerate(no_tumor_images):\n",
    "    # Check if image is in jpg format\n",
    "    if image_name.split('.')[1] == 'jpg':\n",
    "        # Read image from directory\n",
    "        image = cv2.imread(image_directory + 'no/' + image_name)\n",
    "        # Convert image to RGB format\n",
    "        image = Image.fromarray(image, 'RGB')\n",
    "        # Resize image to specified input size\n",
    "        image = image.resize((input_size, input_size))\n",
    "        # Convert image to numpy array\n",
    "        dataset_x.append(np.array(image))\n",
    "        # Append label for no tumor\n",
    "        label_y.append(0)\n",
    "\n",
    "# Process images with tumors\n",
    "for i, image_name in enumerate(yes_tumor_images):\n",
    "    # Check if image is in jpg format\n",
    "    if image_name.split('.')[1] == 'jpg':\n",
    "        # Read image from directory\n",
    "        image = cv2.imread(image_directory + 'yes/' + image_name)\n",
    "        # Convert image to RGB format\n",
    "        image = Image.fromarray(image, 'RGB')\n",
    "        # Resize image to specified input size\n",
    "        image = image.resize((input_size, input_size))\n",
    "        # Convert image to numpy array\n",
    "        dataset_x.append(np.array(image))\n",
    "        # Append label for tumor\n",
    "        label_y.append(1)"
   ]
  },
  {
   "cell_type": "code",
   "execution_count": 5,
   "metadata": {},
   "outputs": [],
   "source": [
    "# Convert dataset_x to a numpy array\n",
    "dataset_x = np.array(dataset_x)\n",
    "\n",
    "# Convert label_y to a numpy array\n",
    "label_y = np.array(label_y)"
   ]
  },
  {
   "cell_type": "code",
   "execution_count": 6,
   "metadata": {},
   "outputs": [],
   "source": [
    "# Split the dataset into training and testing sets\n",
    "x_train, x_test, y_train, y_test = train_test_split(dataset_x, label_y, test_size=0.2, random_state=0)\n",
    "\n",
    "# Normalize the training set\n",
    "x_train = normalize(x_train, axis=1)\n",
    "\n",
    "# Normalize the testing set\n",
    "x_test = normalize(x_test, axis=1)"
   ]
  },
  {
   "cell_type": "markdown",
   "metadata": {},
   "source": [
    "MDOEL BUILDING"
   ]
  },
  {
   "cell_type": "code",
   "execution_count": 7,
   "metadata": {},
   "outputs": [],
   "source": [
    "# Import necessary libraries\n",
    "from keras.models import Sequential\n",
    "from keras.layers import Conv2D, Activation, MaxPooling2D, Flatten, Dense, Dropout\n",
    "\n",
    "# Create a sequential model\n",
    "model = Sequential()\n",
    "\n",
    "# Add a convolutional layer with 32 filters, kernel size (3,3), and input shape (input_size, input_size, 3)\n",
    "model.add(Conv2D(32, (3,3), input_shape =(input_size, input_size,3)))\n",
    "model.add(Activation('relu'))\n",
    "model.add(MaxPooling2D(pool_size=(2,2)))\n",
    "\n",
    "# Add another convolutional layer with 32 filters, kernel size (3,3), and 'he_uniform' kernel initializer\n",
    "model.add(Conv2D(32, (3,3), kernel_initializer='he_uniform'))\n",
    "model.add(Activation('relu'))\n",
    "model.add(MaxPooling2D(pool_size=(2,2)))\n",
    "\n",
    "# Add another convolutional layer with 64 filters, kernel size (3,3), and 'he_uniform' kernel initializer\n",
    "model.add(Conv2D(64, (3,3), kernel_initializer='he_uniform'))\n",
    "model.add(Activation('relu'))\n",
    "model.add(MaxPooling2D(pool_size=(2,2)))\n",
    "\n",
    "# Flatten the output from the previous layer\n",
    "model.add(Flatten())\n",
    "\n",
    "# Add a fully connected layer with 64 units\n",
    "model.add(Dense(64))\n",
    "model.add(Activation('relu'))\n",
    "\n",
    "# Add a dropout layer with dropout rate of 0.5\n",
    "model.add(Dropout(0.5))\n",
    "\n",
    "# Add the output layer with 1 unit and sigmoid activation function\n",
    "model.add(Dense(1))\n",
    "model.add(Activation('sigmoid'))"
   ]
  },
  {
   "cell_type": "code",
   "execution_count": 8,
   "metadata": {},
   "outputs": [
    {
     "name": "stdout",
     "output_type": "stream",
     "text": [
      "Epoch 1/10\n",
      "150/150 [==============================] - 6s 34ms/step - loss: 0.5546 - accuracy: 0.7312 - val_loss: 0.4906 - val_accuracy: 0.7633\n",
      "Epoch 2/10\n",
      "150/150 [==============================] - 5s 31ms/step - loss: 0.4204 - accuracy: 0.8275 - val_loss: 0.3712 - val_accuracy: 0.8283\n",
      "Epoch 3/10\n",
      "150/150 [==============================] - 5s 31ms/step - loss: 0.3155 - accuracy: 0.8750 - val_loss: 0.2810 - val_accuracy: 0.8800\n",
      "Epoch 4/10\n",
      "150/150 [==============================] - 5s 32ms/step - loss: 0.2360 - accuracy: 0.9096 - val_loss: 0.2063 - val_accuracy: 0.9100\n",
      "Epoch 5/10\n",
      "150/150 [==============================] - 5s 31ms/step - loss: 0.1627 - accuracy: 0.9404 - val_loss: 0.1419 - val_accuracy: 0.9467\n",
      "Epoch 6/10\n",
      "150/150 [==============================] - 5s 31ms/step - loss: 0.1014 - accuracy: 0.9688 - val_loss: 0.1044 - val_accuracy: 0.9567\n",
      "Epoch 7/10\n",
      "150/150 [==============================] - 5s 31ms/step - loss: 0.0735 - accuracy: 0.9762 - val_loss: 0.1025 - val_accuracy: 0.9683\n",
      "Epoch 8/10\n",
      "150/150 [==============================] - 5s 31ms/step - loss: 0.0479 - accuracy: 0.9833 - val_loss: 0.0957 - val_accuracy: 0.9700\n",
      "Epoch 9/10\n",
      "150/150 [==============================] - 5s 31ms/step - loss: 0.0441 - accuracy: 0.9858 - val_loss: 0.0849 - val_accuracy: 0.9733\n",
      "Epoch 10/10\n",
      "150/150 [==============================] - 5s 31ms/step - loss: 0.0231 - accuracy: 0.9917 - val_loss: 0.1011 - val_accuracy: 0.9717\n"
     ]
    },
    {
     "name": "stderr",
     "output_type": "stream",
     "text": [
      "WARNING:absl:Found untraced functions such as _jit_compiled_convolution_op, _jit_compiled_convolution_op, _jit_compiled_convolution_op, _update_step_xla while saving (showing 4 of 4). These functions will not be directly callable after loading.\n"
     ]
    },
    {
     "name": "stdout",
     "output_type": "stream",
     "text": [
      "INFO:tensorflow:Assets written to: C:\\BRA FAMOUS\\PROGRAMMING\\PYTHON\\PYTHON PROJECTS\\Brain Tumour Detection\\BTD Dataset\\assets\n"
     ]
    },
    {
     "name": "stderr",
     "output_type": "stream",
     "text": [
      "INFO:tensorflow:Assets written to: C:\\BRA FAMOUS\\PROGRAMMING\\PYTHON\\PYTHON PROJECTS\\Brain Tumour Detection\\BTD Dataset\\assets\n"
     ]
    }
   ],
   "source": [
    "# Compiling the model\n",
    "model.compile(\n",
    "    loss=tf.keras.losses.BinaryCrossentropy(), \n",
    "    optimizer='adam', \n",
    "    metrics=['accuracy']\n",
    ")\n",
    "\n",
    "# Training the model\n",
    "model.fit(\n",
    "    x_train, \n",
    "    y_train, \n",
    "    batch_size=16,\n",
    "    verbose=1, \n",
    "    epochs=10, \n",
    "    validation_data=(x_test, y_test),\n",
    "    shuffle=False\n",
    ")\n",
    "\n",
    "# Saving the model\n",
    "model.save('Brain_Tumor_Detection_1.0.h5')\n",
    "tf.saved_model.save(model, 'C:\\BRA FAMOUS\\PROGRAMMING\\PYTHON\\PYTHON PROJECTS\\Brain Tumour Detection\\BTD Dataset')"
   ]
  },
  {
   "cell_type": "markdown",
   "metadata": {},
   "source": [
    "MODEL SUMMARY"
   ]
  },
  {
   "cell_type": "code",
   "execution_count": 9,
   "metadata": {},
   "outputs": [
    {
     "name": "stdout",
     "output_type": "stream",
     "text": [
      "Model: \"sequential\"\n",
      "_________________________________________________________________\n",
      " Layer (type)                Output Shape              Param #   \n",
      "=================================================================\n",
      " conv2d (Conv2D)             (None, 62, 62, 32)        896       \n",
      "                                                                 \n",
      " activation (Activation)     (None, 62, 62, 32)        0         \n",
      "                                                                 \n",
      " max_pooling2d (MaxPooling2D  (None, 31, 31, 32)       0         \n",
      " )                                                               \n",
      "                                                                 \n",
      " conv2d_1 (Conv2D)           (None, 29, 29, 32)        9248      \n",
      "                                                                 \n",
      " activation_1 (Activation)   (None, 29, 29, 32)        0         \n",
      "                                                                 \n",
      " max_pooling2d_1 (MaxPooling  (None, 14, 14, 32)       0         \n",
      " 2D)                                                             \n",
      "                                                                 \n",
      " conv2d_2 (Conv2D)           (None, 12, 12, 64)        18496     \n",
      "                                                                 \n",
      " activation_2 (Activation)   (None, 12, 12, 64)        0         \n",
      "                                                                 \n",
      " max_pooling2d_2 (MaxPooling  (None, 6, 6, 64)         0         \n",
      " 2D)                                                             \n",
      "                                                                 \n",
      " flatten (Flatten)           (None, 2304)              0         \n",
      "                                                                 \n",
      " dense (Dense)               (None, 64)                147520    \n",
      "                                                                 \n",
      " activation_3 (Activation)   (None, 64)                0         \n",
      "                                                                 \n",
      " dropout (Dropout)           (None, 64)                0         \n",
      "                                                                 \n",
      " dense_1 (Dense)             (None, 1)                 65        \n",
      "                                                                 \n",
      " activation_4 (Activation)   (None, 1)                 0         \n",
      "                                                                 \n",
      "=================================================================\n",
      "Total params: 176,225\n",
      "Trainable params: 176,225\n",
      "Non-trainable params: 0\n",
      "_________________________________________________________________\n",
      "None\n"
     ]
    }
   ],
   "source": [
    "print(model.summary())"
   ]
  },
  {
   "cell_type": "code",
   "execution_count": 41,
   "metadata": {},
   "outputs": [
    {
     "name": "stdout",
     "output_type": "stream",
     "text": [
      " 1/19 [>.............................] - ETA: 0s"
     ]
    },
    {
     "name": "stdout",
     "output_type": "stream",
     "text": [
      "19/19 [==============================] - 0s 16ms/step\n"
     ]
    },
    {
     "data": {
      "image/png": "[encoded data removed]",
      "text/plain": [
       "<Figure size 640x480 with 1 Axes>"
      ]
     },
     "metadata": {},
     "output_type": "display_data"
    }
   ],
   "source": [
    "import numpy as np\n",
    "import matplotlib.pyplot as plt\n",
    "from sklearn.metrics import roc_curve, auc\n",
    "\n",
    "# Assuming you have the model, x_test, and y_test available\n",
    "\n",
    "# Make predictions on the test set\n",
    "y_pred = model.predict(x_test)\n",
    "\n",
    "# Define a threshold value\n",
    "threshold = 0.5\n",
    "\n",
    "# Apply thresholding to the predictions\n",
    "y_pred = np.where(y_pred >= threshold, 1, 0)\n",
    "y_pred=np.array(y_pred)\n",
    "\n",
    "# Compute the false positive rate (FPR), true positive rate (TPR), and thresholds\n",
    "fpr, tpr, thresholds = roc_curve(y_test, y_pred)\n",
    "\n",
    "# Compute the Area Under the Curve (AUC)\n",
    "auc_score = auc(fpr, tpr)\n",
    "\n",
    "# Plot the ROC curve\n",
    "plt.plot(fpr, tpr, label='ROC curve (AUC = %0.2f)' % auc_score)\n",
    "plt.plot([0, 1], [0, 1], 'k--')  # Random guessing line\n",
    "plt.xlim([0.0, 1.0])\n",
    "plt.ylim([0.0, 1.05])\n",
    "plt.xlabel('False Positive Rate')\n",
    "plt.ylabel('True Positive Rate')\n",
    "plt.title('Receiver Operating Characteristic')\n",
    "plt.legend(loc='lower right')\n",
    "plt.show()"
   ]
  },
  {
   "cell_type": "code",
   "execution_count": 46,
   "metadata": {},
   "outputs": [
    {
     "data": {
      "image/png": "[encoded data removed]",
      "text/plain": [
       "<Figure size 640x480 with 2 Axes>"
      ]
     },
     "metadata": {},
     "output_type": "display_data"
    }
   ],
   "source": [
    "\n",
    "import numpy as np\n",
    "import matplotlib.pyplot as plt\n",
    "from sklearn.metrics import confusion_matrix\n",
    "\n",
    "# Assuming you have the predicted labels and true labels for your model\n",
    "# predicted_labels: array-like of shape (n_samples,)\n",
    "# true_labels: array-like of shape (n_samples,)\n",
    "\n",
    "# Compute the confusion matrix\n",
    "cm = confusion_matrix(y_test, y_pred)\n",
    "\n",
    "# Define the class labels (if known)\n",
    "class_labels = ['Tumor','No Tumor']  # Replace with your class labels\n",
    "\n",
    "# Plot the confusion matrix\n",
    "plt.imshow(cm, interpolation='nearest', cmap=plt.cm.Blues)\n",
    "plt.title('Confusion Matrix')\n",
    "plt.colorbar()\n",
    "tick_marks = np.arange(len(class_labels))\n",
    "plt.xticks(tick_marks, class_labels, rotation=45)\n",
    "plt.yticks(tick_marks, class_labels)\n",
    "plt.xlabel('Predicted Label')\n",
    "plt.ylabel('True Label')\n",
    "\n",
    "\n",
    "\n",
    "# Add text annotations for each cell\n",
    "thresh = cm.max() / 2.0\n",
    "for i in range(cm.shape[0]):\n",
    "    for j in range(cm.shape[1]):\n",
    "        plt.text(j, i, format(cm[i, j], 'd'),\n",
    "                 ha=\"center\", va=\"center\",\n",
    "                 color=\"white\" if cm[i, j] > thresh else \"black\")\n",
    "\n",
    "\n",
    "plt.show()\n"
   ]
  },
  {
   "cell_type": "code",
   "execution_count": null,
   "metadata": {},
   "outputs": [],
   "source": [
    "y_pred= y_pred.argmax(axis=-1)"
   ]
  },
  {
   "cell_type": "code",
   "execution_count": null,
   "metadata": {},
   "outputs": [],
   "source": [
    "print(y_pred)"
   ]
  },
  {
   "cell_type": "code",
   "execution_count": null,
   "metadata": {},
   "outputs": [],
   "source": []
  }
 ],
 "metadata": {
  "kernelspec": {
   "display_name": "Python 3",
   "language": "python",
   "name": "python3"
  },
  "language_info": {
   "codemirror_mode": {
    "name": "ipython",
    "version": 3
   },
   "file_extension": ".py",
   "mimetype": "text/x-python",
   "name": "python",
   "nbconvert_exporter": "python",
   "pygments_lexer": "ipython3",
   "version": "3.11.4"
  },
  "orig_nbformat": 4
 },
 "nbformat": 4,
 "nbformat_minor": 2
}
